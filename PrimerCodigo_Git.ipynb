{
  "nbformat": 4,
  "nbformat_minor": 0,
  "metadata": {
    "colab": {
      "provenance": []
    },
    "kernelspec": {
      "name": "python3",
      "display_name": "Python 3"
    },
    "language_info": {
      "name": "python"
    }
  },
  "cells": [
    {
      "cell_type": "markdown",
      "source": [
        "PAGINA OFICIAL DE GIT:\n",
        "\n",
        "https://git-scm.com/\n"
      ],
      "metadata": {
        "id": "HvDzzKkSp3hX"
      }
    },
    {
      "cell_type": "markdown",
      "source": [
        " git -v"
      ],
      "metadata": {
        "id": "R8MP_omYus-O"
      }
    },
    {
      "cell_type": "markdown",
      "source": [
        "https://git-scm.com/docs/git"
      ],
      "metadata": {
        "id": "1pmrED0Ou1f9"
      }
    },
    {
      "cell_type": "markdown",
      "source": [
        "https://git-scm.com/book/es/v2"
      ],
      "metadata": {
        "id": "6r4XFrT3vNY2"
      }
    },
    {
      "cell_type": "markdown",
      "source": [
        "Sobre el Control de Versiones - Configurando Git por primera vez:\n",
        "\n",
        "https://git-scm.com/book/es/v2/Inicio---Sobre-el-Control-de-Versiones-Configurando-Git-por-primera-vez"
      ],
      "metadata": {
        "id": "RFBZnsTovOlB"
      }
    },
    {
      "cell_type": "markdown",
      "source": [
        "Tu Identidad:\n",
        "\n",
        "$ git config --global user.name \"PrimerCodigo\"\n",
        "\n",
        "$ git config --global user.email \"codigos.iniciales@gmail.com\"\n",
        "\n",
        "$ git config --list"
      ],
      "metadata": {
        "id": "8gMRVaokvTYT"
      }
    },
    {
      "cell_type": "markdown",
      "source": [
        "Creación y configuración de la cuenta:\n",
        "\n",
        "https://git-scm.com/book/es/v2/GitHub-Creaci%C3%B3n-y-configuraci%C3%B3n-de-la-cuenta"
      ],
      "metadata": {
        "id": "PwQEDmXJxteX"
      }
    },
    {
      "cell_type": "markdown",
      "source": [
        "https://docs.github.com/es/authentication/connecting-to-github-with-ssh/generating-a-new-ssh-key-and-adding-it-to-the-ssh-agent\n",
        "\n",
        "\n",
        "\n",
        "\n",
        "ssh-keygen -t ed25519 -C \"codigos.iniciales@gmail.com\"\n",
        "\n",
        "En este paso, apretar ENTER las veces necesarias"
      ],
      "metadata": {
        "id": "ac3qpHlXxxQH"
      }
    },
    {
      "cell_type": "markdown",
      "source": [
        "Agregar una clave SSH nueva a tu cuenta de GitHub;\n",
        "\n",
        "\n",
        "https://docs.github.com/es/authentication/connecting-to-github-with-ssh/adding-a-new-ssh-key-to-your-github-account"
      ],
      "metadata": {
        "id": "QB5yBWv-zt1q"
      }
    }
  ]
}